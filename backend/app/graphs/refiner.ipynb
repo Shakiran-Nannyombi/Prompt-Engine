{
 "cells": [
  {
   "cell_type": "code",
   "execution_count": 5,
   "id": "a4596368",
   "metadata": {},
   "outputs": [
    {
     "name": "stdout",
     "output_type": "stream",
     "text": [
      "Environment variables status:\n",
      "GROQ_API_KEY: Set\n",
      "TAVILY_API_KEY: Set\n",
      "DATABASE_URL: Set\n",
      "Environment variables loaded successfully\n"
     ]
    }
   ],
   "source": [
    "import sys\n",
    "import os\n",
    "from dotenv import load_dotenv\n",
    "\n",
    "sys.path.append(os.path.abspath(\"..\"))\n",
    "\n",
    "# Load environment variables from .env file\n",
    "load_dotenv(dotenv_path=\"../.env\")\n",
    "\n",
    "# Verify important environment variables are loaded\n",
    "print(\"Environment variables status:\")\n",
    "print(f\"GROQ_API_KEY: {'Set' if os.environ.get('GROQ_API_KEY') else 'Missing'}\")\n",
    "print(f\"TAVILY_API_KEY: {'Set' if os.environ.get('TAVILY_API_KEY') else 'Missing'}\")\n",
    "print(f\"DATABASE_URL: {'Set' if os.environ.get('DATABASE_URL') else 'Missing'}\")\n",
    "print(\"Environment variables loaded successfully\")"
   ]
  },
  {
   "cell_type": "code",
   "execution_count": 6,
   "id": "72932c08",
   "metadata": {},
   "outputs": [
    {
     "name": "stdout",
     "output_type": "stream",
     "text": [
      "Nodes: ['__start__', 'classify_category', 'refinement_agent', 'tool_node', 'generate_analysis', '__end__']\n",
      "Edges: [Edge(source='__start__', target='classify_category', data=None, conditional=False), Edge(source='classify_category', target='refinement_agent', data=None, conditional=False), Edge(source='refinement_agent', target='__end__', data=None, conditional=False)]\n",
      "Graph info: Graph(nodes={'__start__': Node(id='__start__', name='__start__', data=RunnableCallable(tags=None, recurse=True, explode_args=False, func_accepts={}), metadata=None), 'classify_category': Node(id='classify_category', name='classify_category', data=classify_category(tags=None, recurse=True, explode_args=False, func_accepts={}), metadata=None), 'refinement_agent': Node(id='refinement_agent', name='refinement_agent', data=refinement_agent(tags=None, recurse=True, explode_args=False, func_accepts={}), metadata=None), 'tool_node': Node(id='tool_node', name='tool_node', data=tools(tags=None, recurse=True, explode_args=False, func_accepts={'config': ('N/A', <class 'inspect._empty'>), 'store': ('store', None)}, tools_by_name={'core_refiner': StructuredTool(name='core_refiner', description='Refines prompts using the C.O.R.E. framework (Context, Objective, Role, Example).\\nBest for: Prompts needing better structure and clear communication.', args_schema=<class 'agents.tools.refinement_tools.RefinePromptArgs'>, func=<function core_refine at 0x7889470a14e0>), 'race_refiner': StructuredTool(name='race_refiner', description='Refines prompts using the R.A.C.E. framework (Role, Action, Context, Expectation).\\nBest for: Prompts needing clear role definition and action steps.', args_schema=<class 'agents.tools.refinement_tools.RefinePromptArgs'>, func=<function race_refine at 0x788946f0afc0>), 'car_refiner': StructuredTool(name='car_refiner', description='Refines prompts using the C.A.R. framework (Context, Action, Result).\\nBest for: Prompts needing clear context and expected outcomes.', args_schema=<class 'agents.tools.refinement_tools.RefinePromptArgs'>, func=<function car_refine at 0x788946d9b4c0>), 'spear_refiner': StructuredTool(name='spear_refiner', description='Refines prompts using the S.P.E.A.R. framework (Situation, Problem, Emotion, Action, Result).\\nBest for: Complex prompts needing comprehensive analysis and emotional context.', args_schema=<class 'agents.tools.refinement_tools.RefinePromptArgs'>, func=<function spear_refine at 0x788946d9bb00>), 'risen_refiner': StructuredTool(name='risen_refiner', description='Refines prompts using the Risen framework (Role, Instructions, Steps, Goal, Narrowing).\\nBest for: Technical prompts needing detailed step-by-step instructions and constraints.', args_schema=<class 'agents.tools.refinement_tools.RefinePromptArgs'>, func=<function risen_refine at 0x788946d9bba0>), 'scorer_refiner': StructuredTool(name='scorer_refiner', description='Refines prompts using the SCORER framework (Set scene, Clarify task, Offer options, Refine output, Evaluate results, Reflect).\\nBest for: Complex projects needing comprehensive planning and evaluation processes.', args_schema=<class 'agents.tools.refinement_tools.RefinePromptArgs'>, func=<function scorer_refine at 0x788946e3d300>), 'idea_refiner': StructuredTool(name='idea_refiner', description='Refines prompts using the IDEA framework (Inspire, Develop, Express, Assess).\\nBest for: Creative prompts needing brainstorming and imaginative development.', args_schema=<class 'agents.tools.refinement_tools.RefinePromptArgs'>, func=<function idea_refine at 0x788946e3d3a0>)}, tool_to_state_args={'core_refiner': {}, 'race_refiner': {}, 'car_refiner': {}, 'spear_refiner': {}, 'risen_refiner': {}, 'scorer_refiner': {}, 'idea_refiner': {}}, tool_to_store_arg={'core_refiner': None, 'race_refiner': None, 'car_refiner': None, 'spear_refiner': None, 'risen_refiner': None, 'scorer_refiner': None, 'idea_refiner': None}, handle_tool_errors=True, messages_key='messages'), metadata=None), 'generate_analysis': Node(id='generate_analysis', name='generate_analysis', data=generate_analysis(tags=None, recurse=True, explode_args=False, func_accepts={}), metadata=None), '__end__': Node(id='__end__', name='__end__', data=None, metadata=None)}, edges=[Edge(source='__start__', target='classify_category', data=None, conditional=False), Edge(source='classify_category', target='refinement_agent', data=None, conditional=False), Edge(source='refinement_agent', target='__end__', data=None, conditional=False)])\n"
     ]
    }
   ],
   "source": [
    "from agents.refiner_agent import refiner_graph\n",
    "\n",
    "graph_obj = refiner_graph.get_graph()\n",
    "\n",
    "print(\"Nodes:\", list(graph_obj.nodes))\n",
    "print(\"Edges:\", list(graph_obj.edges))\n",
    "print(\"Graph info:\", graph_obj)"
   ]
  },
  {
   "cell_type": "code",
   "execution_count": 7,
   "id": "04e3c50a",
   "metadata": {},
   "outputs": [
    {
     "name": "stdout",
     "output_type": "stream",
     "text": [
      "\n",
      "Successfully generated 'refiner_agent_mermaid.png'!\n"
     ]
    }
   ],
   "source": [
    "graph = refiner_graph.get_graph(xray=True)\n",
    "\n",
    "# Generate the image bytes using the Mermaid renderer.\n",
    "image_bytes = graph.draw_mermaid_png()\n",
    "\n",
    "# Save the image to a file.\n",
    "output_filename = \"refiner_agent_mermaid.png\"\n",
    "with open(output_filename, \"wb\") as f:\n",
    "        f.write(image_bytes)\n",
    "\n",
    "print(f\"\\nSuccessfully generated '{output_filename}'!\")"
   ]
  }
 ],
 "metadata": {
  "kernelspec": {
   "display_name": ".venv",
   "language": "python",
   "name": "python3"
  },
  "language_info": {
   "codemirror_mode": {
    "name": "ipython",
    "version": 3
   },
   "file_extension": ".py",
   "mimetype": "text/x-python",
   "name": "python",
   "nbconvert_exporter": "python",
   "pygments_lexer": "ipython3",
   "version": "3.12.3"
  }
 },
 "nbformat": 4,
 "nbformat_minor": 5
}
