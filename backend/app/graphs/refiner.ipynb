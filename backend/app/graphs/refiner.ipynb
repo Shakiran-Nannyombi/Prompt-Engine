{
 "cells": [
  {
   "cell_type": "code",
   "execution_count": 13,
   "id": "a4596368",
   "metadata": {},
   "outputs": [
    {
     "name": "stdout",
     "output_type": "stream",
     "text": [
      "Environment variables status:\n",
      "GROQ_API_KEY: Set\n",
      "REFINER_LANGSMITH_API_KEY: Set\n",
      "TAVILY_API_KEY: Set\n",
      "DATABASE_URL: Set\n",
      "Environment variables loaded successfully\n"
     ]
    }
   ],
   "source": [
    "import sys\n",
    "import os\n",
    "from dotenv import load_dotenv\n",
    "\n",
    "sys.path.append(os.path.abspath(\"..\"))\n",
    "\n",
    "# Load environment variables from .env file\n",
    "load_dotenv(dotenv_path=\"../.env\")\n",
    "\n",
    "# Verify important environment variables are loaded\n",
    "print(\"Environment variables status:\")\n",
    "print(f\"GROQ_API_KEY: {'Set' if os.environ.get('GROQ_API_KEY') else 'Missing'}\")\n",
    "print(f\"REFINER_LANGSMITH_API_KEY: {'Set' if os.environ.get('REFINER_LANGSMITH_API_KEY') else 'Missing'}\")\n",
    "print(f\"TAVILY_API_KEY: {'Set' if os.environ.get('TAVILY_API_KEY') else 'Missing'}\")\n",
    "print(f\"DATABASE_URL: {'Set' if os.environ.get('DATABASE_URL') else 'Missing'}\")\n",
    "print(\"Environment variables loaded successfully\")"
   ]
  },
  {
   "cell_type": "code",
   "execution_count": 14,
   "id": "72932c08",
   "metadata": {},
   "outputs": [
    {
     "name": "stdout",
     "output_type": "stream",
     "text": [
      "Nodes: ['__start__', 'classify_category', 'handle_conversation', 'process_prompt_refinement', 'tool_node', 'generate_analysis', '__end__']\n",
      "Edges: [Edge(source='__start__', target='classify_category', data=None, conditional=False), Edge(source='classify_category', target='handle_conversation', data=None, conditional=True), Edge(source='classify_category', target='process_prompt_refinement', data=None, conditional=True), Edge(source='process_prompt_refinement', target='generate_analysis', data=None, conditional=True), Edge(source='process_prompt_refinement', target='tool_node', data=None, conditional=True), Edge(source='tool_node', target='generate_analysis', data=None, conditional=False), Edge(source='generate_analysis', target='__end__', data=None, conditional=False), Edge(source='handle_conversation', target='__end__', data=None, conditional=False)]\n",
      "Graph info: Graph(nodes={'__start__': Node(id='__start__', name='__start__', data=RunnableCallable(tags=None, recurse=True, explode_args=False, func_accepts={}), metadata=None), 'classify_category': Node(id='classify_category', name='classify_category', data=classify_category(tags=None, recurse=True, explode_args=False, func_accepts={}), metadata=None), 'handle_conversation': Node(id='handle_conversation', name='handle_conversation', data=handle_conversation(tags=None, recurse=True, explode_args=False, func_accepts={}), metadata=None), 'process_prompt_refinement': Node(id='process_prompt_refinement', name='process_prompt_refinement', data=process_prompt_refinement(tags=None, recurse=True, explode_args=False, func_accepts={}), metadata=None), 'tool_node': Node(id='tool_node', name='tool_node', data=tools(tags=None, recurse=True, explode_args=False, func_accepts={'config': ('N/A', <class 'inspect._empty'>), 'store': ('store', None)}, tools_by_name={'core_refiner': StructuredTool(name='core_refiner', description='Refines prompts using C.O.R.E. (Context, Objective, Role, Example).\\n    Best for prompts needing better structure.', args_schema=<class 'agents.tools.refinement_tools.RefinePromptArgs'>, func=<function core_refine at 0x7cf366e05080>), 'race_refiner': StructuredTool(name='race_refiner', description='Refines prompts using R.A.C.E. (Role, Action, Context, Expectation). \\n    Best for prompts needing clear roles and actions.', args_schema=<class 'agents.tools.refinement_tools.RefinePromptArgs'>, func=<function race_refine at 0x7cf33b198fe0>), 'car_refiner': StructuredTool(name='car_refiner', description='Refines prompts using C.A.R. (Context, Action, Result).\\n    Best for direct prompts needing clear context and outcomes.', args_schema=<class 'agents.tools.refinement_tools.RefinePromptArgs'>, func=<function car_refine at 0x7cf33b031800>), 'spear_refiner': StructuredTool(name='spear_refiner', description='Refines prompts using S.P.E.A.R. (Situation, Problem, Emotion, Action, Result).\\n    Best for complex prompts with emotional context.', args_schema=<class 'agents.tools.refinement_tools.RefinePromptArgs'>, func=<function spear_refine at 0x7cf33b031e40>), 'risen_refiner': StructuredTool(name='risen_refiner', description='Refines prompts using Risen (Role, Instructions, Steps, Goal, Narrowing).\\n    Best for technical prompts needing step-by-step instructions.', args_schema=<class 'agents.tools.refinement_tools.RefinePromptArgs'>, func=<function risen_refine at 0x7cf33b031ee0>), 'scorer_refiner': StructuredTool(name='scorer_refiner', description='Refines prompts using SCORER (Set scene, Clarify task, Offer options, Refine output, \\n    Evaluate, Reflect). Best for complex projects needing planning.', args_schema=<class 'agents.tools.refinement_tools.RefinePromptArgs'>, func=<function scorer_refine at 0x7cf33b0bb600>), 'idea_refiner': StructuredTool(name='idea_refiner', description='Refines prompts using IDEA (Inspire, Develop, Express, Assess). \\n    Best for creative prompts needing brainstorming.', args_schema=<class 'agents.tools.refinement_tools.RefinePromptArgs'>, func=<function idea_refine at 0x7cf33b0bb6a0>), 'document_search': StructuredTool(name='document_search', description='Searches uploaded documents for context to help refine a prompt. \\n    Use this when you need information from a file or want to reference uploaded content.', args_schema=<class 'langchain_core.utils.pydantic.document_search'>, func=<function search_documents at 0x7cf33b0bbd80>), 'file_processor': StructuredTool(name='file_processor', description='Extracts text, generates embeddings, and stores it in the vector database with optimized batch processing.', args_schema=<class 'langchain_core.utils.pydantic.file_processor'>, func=<function process_uploaded_file at 0x7cf33b0bbe20>)}, tool_to_state_args={'core_refiner': {}, 'race_refiner': {}, 'car_refiner': {}, 'spear_refiner': {}, 'risen_refiner': {}, 'scorer_refiner': {}, 'idea_refiner': {}, 'document_search': {}, 'file_processor': {}}, tool_to_store_arg={'core_refiner': None, 'race_refiner': None, 'car_refiner': None, 'spear_refiner': None, 'risen_refiner': None, 'scorer_refiner': None, 'idea_refiner': None, 'document_search': None, 'file_processor': None}, handle_tool_errors=True, messages_key='messages'), metadata=None), 'generate_analysis': Node(id='generate_analysis', name='generate_analysis', data=generate_analysis(tags=None, recurse=True, explode_args=False, func_accepts={}), metadata=None), '__end__': Node(id='__end__', name='__end__', data=None, metadata=None)}, edges=[Edge(source='__start__', target='classify_category', data=None, conditional=False), Edge(source='classify_category', target='handle_conversation', data=None, conditional=True), Edge(source='classify_category', target='process_prompt_refinement', data=None, conditional=True), Edge(source='process_prompt_refinement', target='generate_analysis', data=None, conditional=True), Edge(source='process_prompt_refinement', target='tool_node', data=None, conditional=True), Edge(source='tool_node', target='generate_analysis', data=None, conditional=False), Edge(source='generate_analysis', target='__end__', data=None, conditional=False), Edge(source='handle_conversation', target='__end__', data=None, conditional=False)])\n"
     ]
    }
   ],
   "source": [
    "from agents.refiner_agent import refiner_graph\n",
    "\n",
    "graph_obj = refiner_graph.get_graph()\n",
    "\n",
    "print(\"Nodes:\", list(graph_obj.nodes))\n",
    "print(\"Edges:\", list(graph_obj.edges))\n",
    "print(\"Graph info:\", graph_obj)"
   ]
  },
  {
   "cell_type": "code",
   "execution_count": 15,
   "id": "04e3c50a",
   "metadata": {},
   "outputs": [
    {
     "ename": "ValueError",
     "evalue": "Failed to reach https://mermaid.ink/ API while trying to render your graph. Status code: 502.\n\nTo resolve this issue:\n1. Check your internet connection and try again\n2. Try with higher retry settings: `draw_mermaid_png(..., max_retries=5, retry_delay=2.0)`\n3. Use the Pyppeteer rendering method which will render your graph locally in a browser: `draw_mermaid_png(..., draw_method=MermaidDrawMethod.PYPPETEER)`",
     "output_type": "error",
     "traceback": [
      "\u001b[31m---------------------------------------------------------------------------\u001b[39m",
      "\u001b[31mValueError\u001b[39m                                Traceback (most recent call last)",
      "\u001b[36mCell\u001b[39m\u001b[36m \u001b[39m\u001b[32mIn[15]\u001b[39m\u001b[32m, line 4\u001b[39m\n\u001b[32m      1\u001b[39m graph = refiner_graph.get_graph(xray=\u001b[38;5;28;01mTrue\u001b[39;00m)\n\u001b[32m      3\u001b[39m \u001b[38;5;66;03m# Generate the image bytes using the Mermaid renderer.\u001b[39;00m\n\u001b[32m----> \u001b[39m\u001b[32m4\u001b[39m image_bytes = \u001b[43mgraph\u001b[49m\u001b[43m.\u001b[49m\u001b[43mdraw_mermaid_png\u001b[49m\u001b[43m(\u001b[49m\u001b[43m)\u001b[49m\n\u001b[32m      6\u001b[39m \u001b[38;5;66;03m# Save the image to a file.\u001b[39;00m\n\u001b[32m      7\u001b[39m output_filename = \u001b[33m\"\u001b[39m\u001b[33mrefiner_agent_mermaid.png\u001b[39m\u001b[33m\"\u001b[39m\n",
      "\u001b[36mFile \u001b[39m\u001b[32m~/Projects/Prompt-Engine/backend/app/.venv/lib/python3.12/site-packages/langchain_core/runnables/graph.py:695\u001b[39m, in \u001b[36mGraph.draw_mermaid_png\u001b[39m\u001b[34m(self, curve_style, node_colors, wrap_label_n_words, output_file_path, draw_method, background_color, padding, max_retries, retry_delay, frontmatter_config)\u001b[39m\n\u001b[32m    687\u001b[39m \u001b[38;5;28;01mfrom\u001b[39;00m\u001b[38;5;250m \u001b[39m\u001b[34;01mlangchain_core\u001b[39;00m\u001b[34;01m.\u001b[39;00m\u001b[34;01mrunnables\u001b[39;00m\u001b[34;01m.\u001b[39;00m\u001b[34;01mgraph_mermaid\u001b[39;00m\u001b[38;5;250m \u001b[39m\u001b[38;5;28;01mimport\u001b[39;00m draw_mermaid_png\n\u001b[32m    689\u001b[39m mermaid_syntax = \u001b[38;5;28mself\u001b[39m.draw_mermaid(\n\u001b[32m    690\u001b[39m     curve_style=curve_style,\n\u001b[32m    691\u001b[39m     node_colors=node_colors,\n\u001b[32m    692\u001b[39m     wrap_label_n_words=wrap_label_n_words,\n\u001b[32m    693\u001b[39m     frontmatter_config=frontmatter_config,\n\u001b[32m    694\u001b[39m )\n\u001b[32m--> \u001b[39m\u001b[32m695\u001b[39m \u001b[38;5;28;01mreturn\u001b[39;00m \u001b[43mdraw_mermaid_png\u001b[49m\u001b[43m(\u001b[49m\n\u001b[32m    696\u001b[39m \u001b[43m    \u001b[49m\u001b[43mmermaid_syntax\u001b[49m\u001b[43m=\u001b[49m\u001b[43mmermaid_syntax\u001b[49m\u001b[43m,\u001b[49m\n\u001b[32m    697\u001b[39m \u001b[43m    \u001b[49m\u001b[43moutput_file_path\u001b[49m\u001b[43m=\u001b[49m\u001b[43moutput_file_path\u001b[49m\u001b[43m,\u001b[49m\n\u001b[32m    698\u001b[39m \u001b[43m    \u001b[49m\u001b[43mdraw_method\u001b[49m\u001b[43m=\u001b[49m\u001b[43mdraw_method\u001b[49m\u001b[43m,\u001b[49m\n\u001b[32m    699\u001b[39m \u001b[43m    \u001b[49m\u001b[43mbackground_color\u001b[49m\u001b[43m=\u001b[49m\u001b[43mbackground_color\u001b[49m\u001b[43m,\u001b[49m\n\u001b[32m    700\u001b[39m \u001b[43m    \u001b[49m\u001b[43mpadding\u001b[49m\u001b[43m=\u001b[49m\u001b[43mpadding\u001b[49m\u001b[43m,\u001b[49m\n\u001b[32m    701\u001b[39m \u001b[43m    \u001b[49m\u001b[43mmax_retries\u001b[49m\u001b[43m=\u001b[49m\u001b[43mmax_retries\u001b[49m\u001b[43m,\u001b[49m\n\u001b[32m    702\u001b[39m \u001b[43m    \u001b[49m\u001b[43mretry_delay\u001b[49m\u001b[43m=\u001b[49m\u001b[43mretry_delay\u001b[49m\u001b[43m,\u001b[49m\n\u001b[32m    703\u001b[39m \u001b[43m\u001b[49m\u001b[43m)\u001b[49m\n",
      "\u001b[36mFile \u001b[39m\u001b[32m~/Projects/Prompt-Engine/backend/app/.venv/lib/python3.12/site-packages/langchain_core/runnables/graph_mermaid.py:294\u001b[39m, in \u001b[36mdraw_mermaid_png\u001b[39m\u001b[34m(mermaid_syntax, output_file_path, draw_method, background_color, padding, max_retries, retry_delay)\u001b[39m\n\u001b[32m    288\u001b[39m     img_bytes = asyncio.run(\n\u001b[32m    289\u001b[39m         _render_mermaid_using_pyppeteer(\n\u001b[32m    290\u001b[39m             mermaid_syntax, output_file_path, background_color, padding\n\u001b[32m    291\u001b[39m         )\n\u001b[32m    292\u001b[39m     )\n\u001b[32m    293\u001b[39m \u001b[38;5;28;01melif\u001b[39;00m draw_method == MermaidDrawMethod.API:\n\u001b[32m--> \u001b[39m\u001b[32m294\u001b[39m     img_bytes = \u001b[43m_render_mermaid_using_api\u001b[49m\u001b[43m(\u001b[49m\n\u001b[32m    295\u001b[39m \u001b[43m        \u001b[49m\u001b[43mmermaid_syntax\u001b[49m\u001b[43m,\u001b[49m\n\u001b[32m    296\u001b[39m \u001b[43m        \u001b[49m\u001b[43moutput_file_path\u001b[49m\u001b[43m=\u001b[49m\u001b[43moutput_file_path\u001b[49m\u001b[43m,\u001b[49m\n\u001b[32m    297\u001b[39m \u001b[43m        \u001b[49m\u001b[43mbackground_color\u001b[49m\u001b[43m=\u001b[49m\u001b[43mbackground_color\u001b[49m\u001b[43m,\u001b[49m\n\u001b[32m    298\u001b[39m \u001b[43m        \u001b[49m\u001b[43mmax_retries\u001b[49m\u001b[43m=\u001b[49m\u001b[43mmax_retries\u001b[49m\u001b[43m,\u001b[49m\n\u001b[32m    299\u001b[39m \u001b[43m        \u001b[49m\u001b[43mretry_delay\u001b[49m\u001b[43m=\u001b[49m\u001b[43mretry_delay\u001b[49m\u001b[43m,\u001b[49m\n\u001b[32m    300\u001b[39m \u001b[43m    \u001b[49m\u001b[43m)\u001b[49m\n\u001b[32m    301\u001b[39m \u001b[38;5;28;01melse\u001b[39;00m:\n\u001b[32m    302\u001b[39m     supported_methods = \u001b[33m\"\u001b[39m\u001b[33m, \u001b[39m\u001b[33m\"\u001b[39m.join([m.value \u001b[38;5;28;01mfor\u001b[39;00m m \u001b[38;5;129;01min\u001b[39;00m MermaidDrawMethod])\n",
      "\u001b[36mFile \u001b[39m\u001b[32m~/Projects/Prompt-Engine/backend/app/.venv/lib/python3.12/site-packages/langchain_core/runnables/graph_mermaid.py:451\u001b[39m, in \u001b[36m_render_mermaid_using_api\u001b[39m\u001b[34m(mermaid_syntax, output_file_path, background_color, file_type, max_retries, retry_delay)\u001b[39m\n\u001b[32m    446\u001b[39m     \u001b[38;5;66;03m# For other status codes, fail immediately\u001b[39;00m\n\u001b[32m    447\u001b[39m     msg = (\n\u001b[32m    448\u001b[39m         \u001b[33m\"\u001b[39m\u001b[33mFailed to reach https://mermaid.ink/ API while trying to render \u001b[39m\u001b[33m\"\u001b[39m\n\u001b[32m    449\u001b[39m         \u001b[33mf\u001b[39m\u001b[33m\"\u001b[39m\u001b[33myour graph. Status code: \u001b[39m\u001b[38;5;132;01m{\u001b[39;00mresponse.status_code\u001b[38;5;132;01m}\u001b[39;00m\u001b[33m.\u001b[39m\u001b[38;5;130;01m\\n\u001b[39;00m\u001b[38;5;130;01m\\n\u001b[39;00m\u001b[33m\"\u001b[39m\n\u001b[32m    450\u001b[39m     ) + error_msg_suffix\n\u001b[32m--> \u001b[39m\u001b[32m451\u001b[39m     \u001b[38;5;28;01mraise\u001b[39;00m \u001b[38;5;167;01mValueError\u001b[39;00m(msg)\n\u001b[32m    453\u001b[39m \u001b[38;5;28;01mexcept\u001b[39;00m (requests.RequestException, requests.Timeout) \u001b[38;5;28;01mas\u001b[39;00m e:\n\u001b[32m    454\u001b[39m     \u001b[38;5;28;01mif\u001b[39;00m attempt < max_retries:\n\u001b[32m    455\u001b[39m         \u001b[38;5;66;03m# Exponential backoff with jitter\u001b[39;00m\n",
      "\u001b[31mValueError\u001b[39m: Failed to reach https://mermaid.ink/ API while trying to render your graph. Status code: 502.\n\nTo resolve this issue:\n1. Check your internet connection and try again\n2. Try with higher retry settings: `draw_mermaid_png(..., max_retries=5, retry_delay=2.0)`\n3. Use the Pyppeteer rendering method which will render your graph locally in a browser: `draw_mermaid_png(..., draw_method=MermaidDrawMethod.PYPPETEER)`"
     ]
    }
   ],
   "source": [
    "graph = refiner_graph.get_graph(xray=True)\n",
    "\n",
    "# Generate the image bytes using the Mermaid renderer.\n",
    "image_bytes = graph.draw_mermaid_png()\n",
    "\n",
    "# Save the image to a file.\n",
    "output_filename = \"refiner_agent_mermaid.png\"\n",
    "with open(output_filename, \"wb\") as f:\n",
    "        f.write(image_bytes)\n",
    "\n",
    "print(f\"\\nSuccessfully generated '{output_filename}'!\")"
   ]
  }
 ],
 "metadata": {
  "kernelspec": {
   "display_name": ".venv",
   "language": "python",
   "name": "python3"
  },
  "language_info": {
   "codemirror_mode": {
    "name": "ipython",
    "version": 3
   },
   "file_extension": ".py",
   "mimetype": "text/x-python",
   "name": "python",
   "nbconvert_exporter": "python",
   "pygments_lexer": "ipython3",
   "version": "3.12.3"
  }
 },
 "nbformat": 4,
 "nbformat_minor": 5
}
