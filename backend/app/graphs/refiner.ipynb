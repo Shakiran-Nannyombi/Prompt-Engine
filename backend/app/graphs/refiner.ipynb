{
 "cells": [
  {
   "cell_type": "code",
   "execution_count": 1,
   "id": "a4596368",
   "metadata": {},
   "outputs": [
    {
     "name": "stdout",
     "output_type": "stream",
     "text": [
      "Environment variables status:\n",
      "GROQ_API_KEY: Set\n",
      "REFINER_LANGSMITH_API_KEY: Set\n",
      "TAVILY_API_KEY: Set\n",
      "DATABASE_URL: Set\n",
      "Environment variables loaded successfully\n"
     ]
    }
   ],
   "source": [
    "import sys\n",
    "import os\n",
    "from dotenv import load_dotenv\n",
    "\n",
    "sys.path.append(os.path.abspath(\"..\"))\n",
    "\n",
    "# Load environment variables from .env file\n",
    "load_dotenv(dotenv_path=\"../.env\")\n",
    "\n",
    "# Verify important environment variables are loaded\n",
    "print(\"Environment variables status:\")\n",
    "print(f\"GROQ_API_KEY: {'Set' if os.environ.get('GROQ_API_KEY') else 'Missing'}\")\n",
    "print(f\"REFINER_LANGSMITH_API_KEY: {'Set' if os.environ.get('REFINER_LANGSMITH_API_KEY') else 'Missing'}\")\n",
    "print(f\"TAVILY_API_KEY: {'Set' if os.environ.get('TAVILY_API_KEY') else 'Missing'}\")\n",
    "print(f\"DATABASE_URL: {'Set' if os.environ.get('DATABASE_URL') else 'Missing'}\")\n",
    "print(\"Environment variables loaded successfully\")"
   ]
  },
  {
   "cell_type": "code",
   "execution_count": 2,
   "id": "72932c08",
   "metadata": {},
   "outputs": [
    {
     "name": "stdout",
     "output_type": "stream",
     "text": [
      "Nodes: ['__start__', 'classify_category', 'handle_conversation', 'refinement_agent', 'rag_agent', 'tool_node', 'generate_analysis', '__end__']\n",
      "Edges: [Edge(source='__start__', target='classify_category', data=None, conditional=False), Edge(source='classify_category', target='handle_conversation', data=None, conditional=True), Edge(source='classify_category', target='rag_agent', data=None, conditional=True), Edge(source='classify_category', target='refinement_agent', data=None, conditional=True), Edge(source='rag_agent', target='generate_analysis', data=None, conditional=True), Edge(source='rag_agent', target='tool_node', data=None, conditional=True), Edge(source='refinement_agent', target='generate_analysis', data=None, conditional=True), Edge(source='refinement_agent', target='tool_node', data=None, conditional=True), Edge(source='tool_node', target='generate_analysis', data=None, conditional=False), Edge(source='generate_analysis', target='__end__', data=None, conditional=False), Edge(source='handle_conversation', target='__end__', data=None, conditional=False)]\n",
      "Graph info: Graph(nodes={'__start__': Node(id='__start__', name='__start__', data=RunnableCallable(tags=None, recurse=True, explode_args=False, func_accepts={}), metadata=None), 'classify_category': Node(id='classify_category', name='classify_category', data=classify_category(tags=None, recurse=True, explode_args=False, func_accepts={}), metadata=None), 'handle_conversation': Node(id='handle_conversation', name='handle_conversation', data=handle_conversation(tags=None, recurse=True, explode_args=False, func_accepts={}), metadata=None), 'refinement_agent': Node(id='refinement_agent', name='refinement_agent', data=refinement_agent(tags=None, recurse=True, explode_args=False, func_accepts={}), metadata=None), 'rag_agent': Node(id='rag_agent', name='rag_agent', data=rag_agent(tags=None, recurse=True, explode_args=False, func_accepts={}), metadata=None), 'tool_node': Node(id='tool_node', name='tool_node', data=tools(tags=None, recurse=True, explode_args=False, func_accepts={'config': ('N/A', <class 'inspect._empty'>), 'store': ('store', None)}, tools_by_name={'core_refiner': StructuredTool(name='core_refiner', description='Refines prompts using C.O.R.E. (Context, Objective, Role, Example).\\n    Best for prompts needing better structure.', args_schema=<class 'agents.tools.refinement_tools.RefinePromptArgs'>, func=<function core_refine at 0x711f30ee4fe0>), 'race_refiner': StructuredTool(name='race_refiner', description='Refines prompts using R.A.C.E. (Role, Action, Context, Expectation). \\n    Best for prompts needing clear roles and actions.', args_schema=<class 'agents.tools.refinement_tools.RefinePromptArgs'>, func=<function race_refine at 0x711f01284f40>), 'car_refiner': StructuredTool(name='car_refiner', description='Refines prompts using C.A.R. (Context, Action, Result).\\n    Best for direct prompts needing clear context and outcomes.', args_schema=<class 'agents.tools.refinement_tools.RefinePromptArgs'>, func=<function car_refine at 0x711f01121760>), 'spear_refiner': StructuredTool(name='spear_refiner', description='Refines prompts using S.P.E.A.R. (Situation, Problem, Emotion, Action, Result).\\n    Best for complex prompts with emotional context.', args_schema=<class 'agents.tools.refinement_tools.RefinePromptArgs'>, func=<function spear_refine at 0x711f01121da0>), 'risen_refiner': StructuredTool(name='risen_refiner', description='Refines prompts using Risen (Role, Instructions, Steps, Goal, Narrowing).\\n    Best for technical prompts needing step-by-step instructions.', args_schema=<class 'agents.tools.refinement_tools.RefinePromptArgs'>, func=<function risen_refine at 0x711f01121e40>), 'scorer_refiner': StructuredTool(name='scorer_refiner', description='Refines prompts using SCORER (Set scene, Clarify task, Offer options, Refine output, \\n    Evaluate, Reflect). Best for complex projects needing planning.', args_schema=<class 'agents.tools.refinement_tools.RefinePromptArgs'>, func=<function scorer_refine at 0x711f011af560>), 'idea_refiner': StructuredTool(name='idea_refiner', description='Refines prompts using IDEA (Inspire, Develop, Express, Assess). \\n    Best for creative prompts needing brainstorming.', args_schema=<class 'agents.tools.refinement_tools.RefinePromptArgs'>, func=<function idea_refine at 0x711f011af600>), 'document_search': StructuredTool(name='document_search', description='Searches uploaded documents for context to help refine a prompt. \\n    Use this when you need information from a file or want to reference uploaded content.', args_schema=<class 'langchain_core.utils.pydantic.document_search'>, func=<function search_documents at 0x711f011afce0>), 'file_processor': StructuredTool(name='file_processor', description='Extracts text, generates embeddings, and stores it in the vector database with optimized batch processing.', args_schema=<class 'langchain_core.utils.pydantic.file_processor'>, func=<function process_uploaded_file at 0x711f011afd80>)}, tool_to_state_args={'core_refiner': {}, 'race_refiner': {}, 'car_refiner': {}, 'spear_refiner': {}, 'risen_refiner': {}, 'scorer_refiner': {}, 'idea_refiner': {}, 'document_search': {}, 'file_processor': {}}, tool_to_store_arg={'core_refiner': None, 'race_refiner': None, 'car_refiner': None, 'spear_refiner': None, 'risen_refiner': None, 'scorer_refiner': None, 'idea_refiner': None, 'document_search': None, 'file_processor': None}, handle_tool_errors=True, messages_key='messages'), metadata=None), 'generate_analysis': Node(id='generate_analysis', name='generate_analysis', data=generate_analysis(tags=None, recurse=True, explode_args=False, func_accepts={}), metadata=None), '__end__': Node(id='__end__', name='__end__', data=None, metadata=None)}, edges=[Edge(source='__start__', target='classify_category', data=None, conditional=False), Edge(source='classify_category', target='handle_conversation', data=None, conditional=True), Edge(source='classify_category', target='rag_agent', data=None, conditional=True), Edge(source='classify_category', target='refinement_agent', data=None, conditional=True), Edge(source='rag_agent', target='generate_analysis', data=None, conditional=True), Edge(source='rag_agent', target='tool_node', data=None, conditional=True), Edge(source='refinement_agent', target='generate_analysis', data=None, conditional=True), Edge(source='refinement_agent', target='tool_node', data=None, conditional=True), Edge(source='tool_node', target='generate_analysis', data=None, conditional=False), Edge(source='generate_analysis', target='__end__', data=None, conditional=False), Edge(source='handle_conversation', target='__end__', data=None, conditional=False)])\n"
     ]
    }
   ],
   "source": [
    "from agents.refiner_agent import refiner_graph\n",
    "\n",
    "graph_obj = refiner_graph.get_graph()\n",
    "\n",
    "print(\"Nodes:\", list(graph_obj.nodes))\n",
    "print(\"Edges:\", list(graph_obj.edges))\n",
    "print(\"Graph info:\", graph_obj)"
   ]
  },
  {
   "cell_type": "code",
   "execution_count": 3,
   "id": "04e3c50a",
   "metadata": {},
   "outputs": [
    {
     "name": "stdout",
     "output_type": "stream",
     "text": [
      "\n",
      "Successfully generated 'refiner_agent_mermaid.png'!\n"
     ]
    }
   ],
   "source": [
    "graph = refiner_graph.get_graph(xray=True)\n",
    "\n",
    "# Generate the image bytes using the Mermaid renderer.\n",
    "image_bytes = graph.draw_mermaid_png()\n",
    "\n",
    "# Save the image to a file.\n",
    "output_filename = \"refiner_agent_mermaid.png\"\n",
    "with open(output_filename, \"wb\") as f:\n",
    "        f.write(image_bytes)\n",
    "\n",
    "print(f\"\\nSuccessfully generated '{output_filename}'!\")"
   ]
  }
 ],
 "metadata": {
  "kernelspec": {
   "display_name": ".venv",
   "language": "python",
   "name": "python3"
  },
  "language_info": {
   "codemirror_mode": {
    "name": "ipython",
    "version": 3
   },
   "file_extension": ".py",
   "mimetype": "text/x-python",
   "name": "python",
   "nbconvert_exporter": "python",
   "pygments_lexer": "ipython3",
   "version": "3.12.3"
  }
 },
 "nbformat": 4,
 "nbformat_minor": 5
}
