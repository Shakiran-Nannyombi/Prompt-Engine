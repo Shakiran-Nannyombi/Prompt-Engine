{
 "cells": [
  {
   "cell_type": "code",
   "execution_count": 1,
   "id": "be391c6d",
   "metadata": {},
   "outputs": [
    {
     "name": "stdout",
     "output_type": "stream",
     "text": [
      "Environment variables status:\n",
      "GROQ_API_KEY: Set\n",
      "COACH_LANGSMITH_API_KEY: Set\n",
      "TAVILY_API_KEY: Set\n",
      "DATABASE_URL: Set\n",
      "Environment variables loaded successfully\n"
     ]
    }
   ],
   "source": [
    "import sys\n",
    "import os\n",
    "from dotenv import load_dotenv\n",
    "\n",
    "sys.path.append(os.path.abspath(\"..\"))\n",
    "\n",
    "# Load environment variables from .env file\n",
    "load_dotenv(dotenv_path=\"../.env\")\n",
    "\n",
    "# Verify important environment variables are loaded\n",
    "print(\"Environment variables status:\")\n",
    "print(f\"GROQ_API_KEY: {'Set' if os.environ.get('GROQ_API_KEY') else 'Missing'}\")\n",
    "print(f\"COACH_LANGSMITH_API_KEY: {'Set' if os.environ.get('COACH_LANGSMITH_API_KEY') else 'Missing'}\")\n",
    "print(f\"TAVILY_API_KEY: {'Set' if os.environ.get('TAVILY_API_KEY') else 'Missing'}\")\n",
    "print(f\"DATABASE_URL: {'Set' if os.environ.get('DATABASE_URL') else 'Missing'}\")\n",
    "print(\"Environment variables loaded successfully\")"
   ]
  },
  {
   "cell_type": "code",
   "execution_count": null,
   "id": "6085e761",
   "metadata": {},
   "outputs": [
    {
     "ename": "",
     "evalue": "",
     "output_type": "error",
     "traceback": [
      "\u001b[1;31mnotebook controller is DISPOSED. \n",
      "\u001b[1;31mView Jupyter <a href='command:jupyter.viewOutput'>log</a> for further details."
     ]
    }
   ],
   "source": [
    "from agents.coach_agent import coach_graph\n",
    "\n",
    "graph_obj = coach_graph.get_graph()\n",
    "\n",
    "print(\"Nodes:\", list(graph_obj.nodes))\n",
    "print(\"Edges:\", list(graph_obj.edges))\n",
    "print(\"Graph info:\", graph_obj)"
   ]
  },
  {
   "cell_type": "code",
   "execution_count": null,
   "id": "a6f36428",
   "metadata": {},
   "outputs": [
    {
     "ename": "",
     "evalue": "",
     "output_type": "error",
     "traceback": [
      "\u001b[1;31mnotebook controller is DISPOSED. \n",
      "\u001b[1;31mView Jupyter <a href='command:jupyter.viewOutput'>log</a> for further details."
     ]
    }
   ],
   "source": [
    "graph = coach_graph.get_graph(xray=True)\n",
    "\n",
    "# Generate the image bytes using the Mermaid renderer.\n",
    "image_bytes = graph.draw_mermaid_png()\n",
    "\n",
    "# Save the image to a file.\n",
    "output_filename = \"coach_agent_mermaid.png\"\n",
    "with open(output_filename, \"wb\") as f:\n",
    "        f.write(image_bytes)\n",
    "\n",
    "print(f\"\\nSuccessfully generated '{output_filename}'!\")"
   ]
  }
 ],
 "metadata": {
  "kernelspec": {
   "display_name": ".venv",
   "language": "python",
   "name": "python3"
  },
  "language_info": {
   "codemirror_mode": {
    "name": "ipython",
    "version": 3
   },
   "file_extension": ".py",
   "mimetype": "text/x-python",
   "name": "python",
   "nbconvert_exporter": "python",
   "pygments_lexer": "ipython3",
   "version": "3.12.3"
  }
 },
 "nbformat": 4,
 "nbformat_minor": 5
}
