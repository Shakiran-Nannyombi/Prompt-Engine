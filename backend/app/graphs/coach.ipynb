{
 "cells": [
  {
   "cell_type": "code",
   "execution_count": 5,
   "id": "be391c6d",
   "metadata": {},
   "outputs": [
    {
     "name": "stdout",
     "output_type": "stream",
     "text": [
      "Environment variables status:\n",
      "GROQ_API_KEY: Set\n",
      "TAVILY_API_KEY: Set\n",
      "DATABASE_URL: Set\n",
      "Environment variables loaded successfully\n"
     ]
    }
   ],
   "source": [
    "import sys\n",
    "import os\n",
    "from dotenv import load_dotenv\n",
    "\n",
    "sys.path.append(os.path.abspath(\"..\"))\n",
    "\n",
    "# Load environment variables from .env file\n",
    "load_dotenv(dotenv_path=\"../.env\")\n",
    "\n",
    "# Verify important environment variables are loaded\n",
    "print(\"Environment variables status:\")\n",
    "print(f\"GROQ_API_KEY: {'Set' if os.environ.get('GROQ_API_KEY') else 'Missing'}\")\n",
    "print(f\"TAVILY_API_KEY: {'Set' if os.environ.get('TAVILY_API_KEY') else 'Missing'}\")\n",
    "print(f\"DATABASE_URL: {'Set' if os.environ.get('DATABASE_URL') else 'Missing'}\")\n",
    "print(\"Environment variables loaded successfully\")"
   ]
  },
  {
   "cell_type": "code",
   "execution_count": 6,
   "id": "6085e761",
   "metadata": {},
   "outputs": [
    {
     "name": "stdout",
     "output_type": "stream",
     "text": [
      "Nodes: ['__start__', 'start_coaching', 'await_user_input', 'process_task_input', 'process_context_input', 'process_reference_input', 'process_final_prompt', 'agent_node', 'tool_node', 'display_final_result', '__end__']\n",
      "Edges: [Edge(source='__start__', target='start_coaching', data=None, conditional=False), Edge(source='agent_node', target='display_final_result', data=None, conditional=True), Edge(source='agent_node', target='tool_node', data='call_tools', conditional=True), Edge(source='await_user_input', target='__end__', data=None, conditional=True), Edge(source='await_user_input', target='process_context_input', data=None, conditional=True), Edge(source='await_user_input', target='process_final_prompt', data=None, conditional=True), Edge(source='await_user_input', target='process_reference_input', data=None, conditional=True), Edge(source='await_user_input', target='process_task_input', data=None, conditional=True), Edge(source='await_user_input', target='start_coaching', data=None, conditional=True), Edge(source='process_context_input', target='await_user_input', data=None, conditional=True), Edge(source='process_context_input', target='process_reference_input', data=None, conditional=True), Edge(source='process_final_prompt', target='agent_node', data=None, conditional=True), Edge(source='process_final_prompt', target='await_user_input', data=None, conditional=True), Edge(source='process_reference_input', target='await_user_input', data=None, conditional=True), Edge(source='process_reference_input', target='process_final_prompt', data=None, conditional=True), Edge(source='process_task_input', target='await_user_input', data=None, conditional=True), Edge(source='process_task_input', target='process_context_input', data=None, conditional=True), Edge(source='start_coaching', target='await_user_input', data=None, conditional=False), Edge(source='tool_node', target='display_final_result', data=None, conditional=False), Edge(source='display_final_result', target='__end__', data=None, conditional=False)]\n",
      "Graph info: Graph(nodes={'__start__': Node(id='__start__', name='__start__', data=RunnableCallable(tags=None, recurse=True, explode_args=False, func_accepts={}), metadata=None), 'start_coaching': Node(id='start_coaching', name='start_coaching', data=start_coaching(tags=None, recurse=True, explode_args=False, func_accepts={}), metadata=None), 'await_user_input': Node(id='await_user_input', name='await_user_input', data=await_user_input(tags=None, recurse=True, explode_args=False, func_accepts={}), metadata=None), 'process_task_input': Node(id='process_task_input', name='process_task_input', data=process_task_input(tags=None, recurse=True, explode_args=False, func_accepts={}), metadata=None), 'process_context_input': Node(id='process_context_input', name='process_context_input', data=process_context_input(tags=None, recurse=True, explode_args=False, func_accepts={}), metadata=None), 'process_reference_input': Node(id='process_reference_input', name='process_reference_input', data=process_reference_input(tags=None, recurse=True, explode_args=False, func_accepts={}), metadata=None), 'process_final_prompt': Node(id='process_final_prompt', name='process_final_prompt', data=process_final_prompt(tags=None, recurse=True, explode_args=False, func_accepts={}), metadata=None), 'agent_node': Node(id='agent_node', name='agent_node', data=agent_node(tags=None, recurse=True, explode_args=False, func_accepts={}), metadata=None), 'tool_node': Node(id='tool_node', name='tool_node', data=tools(tags=None, recurse=True, explode_args=False, func_accepts={'config': ('N/A', <class 'inspect._empty'>), 'store': ('store', None)}, tools_by_name={'tavily_search_tool': StructuredTool(name='tavily_search_tool', description='Use this tool to search the web for relevant information using Tavily.\\nInput should be a search query.', args_schema=<class 'langchain_core.utils.pydantic.tavily_search_tool'>, func=<function tavily_search_tool at 0x7245e04f6ac0>), 'grammar_checker': StructuredTool(name='grammar_checker', description='Checks the provided text for grammar and spelling errors and returns a structured result.\\nUse this to analyze and correct grammar issues in user text.', args_schema=<class 'models.grammarResult.GrammarResult'>, func=<function check_grammar at 0x7245e04f6e80>)}, tool_to_state_args={'tavily_search_tool': {}, 'grammar_checker': {}}, tool_to_store_arg={'tavily_search_tool': None, 'grammar_checker': None}, handle_tool_errors=True, messages_key='messages'), metadata=None), 'display_final_result': Node(id='display_final_result', name='display_final_result', data=display_final_result(tags=None, recurse=True, explode_args=False, func_accepts={}), metadata=None), '__end__': Node(id='__end__', name='__end__', data=None, metadata=None)}, edges=[Edge(source='__start__', target='start_coaching', data=None, conditional=False), Edge(source='agent_node', target='display_final_result', data=None, conditional=True), Edge(source='agent_node', target='tool_node', data='call_tools', conditional=True), Edge(source='await_user_input', target='__end__', data=None, conditional=True), Edge(source='await_user_input', target='process_context_input', data=None, conditional=True), Edge(source='await_user_input', target='process_final_prompt', data=None, conditional=True), Edge(source='await_user_input', target='process_reference_input', data=None, conditional=True), Edge(source='await_user_input', target='process_task_input', data=None, conditional=True), Edge(source='await_user_input', target='start_coaching', data=None, conditional=True), Edge(source='process_context_input', target='await_user_input', data=None, conditional=True), Edge(source='process_context_input', target='process_reference_input', data=None, conditional=True), Edge(source='process_final_prompt', target='agent_node', data=None, conditional=True), Edge(source='process_final_prompt', target='await_user_input', data=None, conditional=True), Edge(source='process_reference_input', target='await_user_input', data=None, conditional=True), Edge(source='process_reference_input', target='process_final_prompt', data=None, conditional=True), Edge(source='process_task_input', target='await_user_input', data=None, conditional=True), Edge(source='process_task_input', target='process_context_input', data=None, conditional=True), Edge(source='start_coaching', target='await_user_input', data=None, conditional=False), Edge(source='tool_node', target='display_final_result', data=None, conditional=False), Edge(source='display_final_result', target='__end__', data=None, conditional=False)])\n"
     ]
    }
   ],
   "source": [
    "from agents.coach_agent import coach_graph\n",
    "\n",
    "graph_obj = coach_graph.get_graph()\n",
    "\n",
    "print(\"Nodes:\", list(graph_obj.nodes))\n",
    "print(\"Edges:\", list(graph_obj.edges))\n",
    "print(\"Graph info:\", graph_obj)"
   ]
  },
  {
   "cell_type": "code",
   "execution_count": 7,
   "id": "a6f36428",
   "metadata": {},
   "outputs": [
    {
     "name": "stdout",
     "output_type": "stream",
     "text": [
      "\n",
      "Successfully generated 'coach_agent_mermaid.png'!\n"
     ]
    }
   ],
   "source": [
    "graph = coach_graph.get_graph(xray=True)\n",
    "\n",
    "# Generate the image bytes using the Mermaid renderer.\n",
    "image_bytes = graph.draw_mermaid_png()\n",
    "\n",
    "# Save the image to a file.\n",
    "output_filename = \"coach_agent_mermaid.png\"\n",
    "with open(output_filename, \"wb\") as f:\n",
    "        f.write(image_bytes)\n",
    "\n",
    "print(f\"\\nSuccessfully generated '{output_filename}'!\")"
   ]
  }
 ],
 "metadata": {
  "kernelspec": {
   "display_name": ".venv",
   "language": "python",
   "name": "python3"
  },
  "language_info": {
   "codemirror_mode": {
    "name": "ipython",
    "version": 3
   },
   "file_extension": ".py",
   "mimetype": "text/x-python",
   "name": "python",
   "nbconvert_exporter": "python",
   "pygments_lexer": "ipython3",
   "version": "3.12.3"
  }
 },
 "nbformat": 4,
 "nbformat_minor": 5
}
