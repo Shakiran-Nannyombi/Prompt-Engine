{
 "cells": [
  {
   "cell_type": "code",
   "execution_count": 1,
   "id": "be391c6d",
   "metadata": {},
   "outputs": [
    {
     "name": "stdout",
     "output_type": "stream",
     "text": [
      "Environment variables status:\n",
      "GROQ_API_KEY: Set\n",
      "COACH_LANGSMITH_API_KEY: Set\n",
      "TAVILY_API_KEY: Set\n",
      "DATABASE_URL: Set\n"
     ]
    }
   ],
   "source": [
    "import sys\n",
    "import os\n",
    "from dotenv import load_dotenv\n",
    "\n",
    "# Add backend directory to path (works from project root)\n",
    "sys.path.insert(0, \"backend\")\n",
    "\n",
    "# Load environment variables\n",
    "load_dotenv(\"backend/.env\")\n",
    "\n",
    "print(\"Environment variables status:\")\n",
    "print(f\"GROQ_API_KEY: {'Set' if os.environ.get('GROQ_API_KEY') else 'Missing'}\")\n",
    "print(f\"COACH_LANGSMITH_API_KEY: {'Set' if os.environ.get('COACH_LANGSMITH_API_KEY') else 'Missing'}\")\n",
    "print(f\"TAVILY_API_KEY: {'Set' if os.environ.get('TAVILY_API_KEY') else 'Missing'}\")\n",
    "print(f\"DATABASE_URL: {'Set' if os.environ.get('DATABASE_URL') else 'Missing'}\")\n"
   ]
  },
  {
   "cell_type": "code",
   "execution_count": 2,
   "id": "6085e761",
   "metadata": {},
   "outputs": [
    {
     "name": "stdout",
     "output_type": "stream",
     "text": [
      "Nodes (10): ['__start__', 'start_coaching', 'await_user_input', 'process_task_input', 'process_context_input', 'process_reference_input', 'process_final_prompt', 'agent_node', 'display_final_result', '__end__']\n",
      "Edges (18): 18 connections\n",
      "\n",
      "Coach agent graph loaded successfully!\n"
     ]
    }
   ],
   "source": [
    "from agents.coach_agent import coach_graph\n",
    "   \n",
    "# Get graph structure\n",
    "graph_obj = coach_graph.get_graph()\n",
    "\n",
    "print(f\"Nodes ({len(graph_obj.nodes)}): {list(graph_obj.nodes)}\")\n",
    "print(f\"Edges ({len(graph_obj.edges)}): {len(graph_obj.edges)} connections\")\n",
    "print(\"\\nCoach agent graph loaded successfully!\")"
   ]
  },
  {
   "cell_type": "code",
   "execution_count": 3,
   "id": "a6f36428",
   "metadata": {},
   "outputs": [
    {
     "name": "stdout",
     "output_type": "stream",
     "text": [
      "\n",
      "Successfully generated 'backend/graphs/coach_agent_mermaid.png'!\n"
     ]
    }
   ],
   "source": [
    "graph = coach_graph.get_graph(xray=True)\n",
    "\n",
    "# Generate the image bytes using the Mermaid renderer.\n",
    "image_bytes = graph.draw_mermaid_png()\n",
    "\n",
    "# Save the image to a file.\n",
    "output_filename = \"backend/graphs/coach_agent_mermaid.png\"\n",
    "with open(output_filename, \"wb\") as f:\n",
    "        f.write(image_bytes)\n",
    "\n",
    "print(f\"\\nSuccessfully generated '{output_filename}'!\")"
   ]
  }
 ],
 "metadata": {
  "kernelspec": {
   "display_name": ".venv",
   "language": "python",
   "name": "python3"
  },
  "language_info": {
   "codemirror_mode": {
    "name": "ipython",
    "version": 3
   },
   "file_extension": ".py",
   "mimetype": "text/x-python",
   "name": "python",
   "nbconvert_exporter": "python",
   "pygments_lexer": "ipython3",
   "version": "3.12.3"
  }
 },
 "nbformat": 4,
 "nbformat_minor": 5
}
